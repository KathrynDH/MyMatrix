{
 "cells": [
  {
   "cell_type": "markdown",
   "metadata": {},
   "source": [
    "# MatrixMath Class Examples\n",
    "A MatrixMath object is constructed from an $m \\times n$ 2-dimensional list\n",
    "\n",
    "Methods include: \n",
    "\n",
    "<code>   print_matrix(self, percision = 4)\n",
    "    add(self, other)\n",
    "    subtract(self, other)\n",
    "    multiply_scalar(self, a)\n",
    "    multiply(self, other)\n",
    "    transpose(self)\n",
    "    determinant(self)\n",
    "    cofactor(self, i, j)\n",
    "    adjoin(self)\n",
    "    inverse(self)\n",
    "    id(rows)\n",
    "    exp(self, n)\n",
    "</code>    "
   ]
  },
  {
   "cell_type": "code",
   "execution_count": 1,
   "metadata": {},
   "outputs": [],
   "source": [
    "from matrix_math import MatrixMath"
   ]
  },
  {
   "cell_type": "code",
   "execution_count": 2,
   "metadata": {},
   "outputs": [],
   "source": [
    "def demonstrate(a):\n",
    "    \"\"\"\n",
    "    Function to demonstrate some of the MatrixMath methods\n",
    "\n",
    "    Args:\n",
    "        a (MatrixMath): Matrix\n",
    "\n",
    "    Returns:\n",
    "        nothing\n",
    "    \"\"\"\n",
    "\n",
    "    #Print a matrix\n",
    "    print('Matrix:')\n",
    "    a.print_matrix()\n",
    "\n",
    "    #Calculate the determinant of a square matrix\n",
    "    try:\n",
    "        print('\\nDeterminant: {}'.format(a.determinant()))\n",
    "    except:\n",
    "        print('\\nMatrix does not have a determinant')\n",
    "\n",
    "    #Find transpose of a matrix\n",
    "    print('\\nMatrix transpose:')\n",
    "    a.transpose().print_matrix()\n",
    "\n",
    "    #Calculate the inverse of an invertable matrix\n",
    "    try:\n",
    "        print('\\nMatrix inverse:')\n",
    "        a.inverse().print_matrix()\n",
    "    except:\n",
    "        print('Matrix does not have an inverse')\n"
   ]
  },
  {
   "cell_type": "markdown",
   "metadata": {},
   "source": [
    "## Creating MatrixMath objects\n",
    "MatrixMath takes an $m \\times n$ 2-dimensional list"
   ]
  },
  {
   "cell_type": "code",
   "execution_count": 3,
   "metadata": {},
   "outputs": [],
   "source": [
    "# Create some matrices as MatrixMath objects\n",
    "a = MatrixMath.id(3)\n",
    "b = MatrixMath([[1,2, 3],[4,5, 6]])\n",
    "c = MatrixMath([[5,2, 3, 10],[4,5, 6, 11],[7,8,9, 12],[13,14,15,20]])\n",
    "d = MatrixMath([[1,2],[3,4]])\n",
    "f = MatrixMath([[1+2j,2+5j],[3,4-2j]])\n",
    "\n",
    "matrices = {'A':a, 'B':b, 'C':c, 'D':d, 'F':f}"
   ]
  },
  {
   "cell_type": "markdown",
   "metadata": {},
   "source": [
    "###  Printing, calculating determinant, transposing, and calculating the inverse\n",
    "printing: <code> a.print_matrix() </code>\n",
    "\n",
    "determinant: <code> a.determinant() </code>\n",
    "\n",
    "transpose: <code> a.transpose() </code>\n",
    "\n",
    "inverse: <code> a.inverse() </code> or <code> a**-1 </code>"
   ]
  },
  {
   "cell_type": "code",
   "execution_count": 4,
   "metadata": {},
   "outputs": [
    {
     "name": "stdout",
     "output_type": "stream",
     "text": [
      "Matrix A\n",
      "Matrix:\n",
      "[1, 0, 0]\n",
      "[0, 1, 0]\n",
      "[0, 0, 1]\n",
      "3 x 3\n",
      "\n",
      "Determinant: 1\n",
      "\n",
      "Matrix transpose:\n",
      "[1, 0, 0]\n",
      "[0, 1, 0]\n",
      "[0, 0, 1]\n",
      "3 x 3\n",
      "\n",
      "Matrix inverse:\n",
      "[1.0, 0.0, 0.0]\n",
      "[0.0, 1.0, 0.0]\n",
      "[0.0, 0.0, 1.0]\n",
      "3 x 3\n",
      "______________________________________________________________________\n",
      "Matrix B\n",
      "Matrix:\n",
      "[1, 2, 3]\n",
      "[4, 5, 6]\n",
      "2 x 3\n",
      "\n",
      "Matrix does not have a determinant\n",
      "\n",
      "Matrix transpose:\n",
      "[1, 4]\n",
      "[2, 5]\n",
      "[3, 6]\n",
      "3 x 2\n",
      "\n",
      "Matrix inverse:\n",
      "Matrix does not have an inverse\n",
      "______________________________________________________________________\n",
      "Matrix C\n",
      "Matrix:\n",
      "[5, 2, 3, 10]\n",
      "[4, 5, 6, 11]\n",
      "[7, 8, 9, 12]\n",
      "[13, 14, 15, 20]\n",
      "4 x 4\n",
      "\n",
      "Determinant: -72\n",
      "\n",
      "Matrix transpose:\n",
      "[5, 4, 7, 13]\n",
      "[2, 5, 8, 14]\n",
      "[3, 6, 9, 15]\n",
      "[10, 11, 12, 20]\n",
      "4 x 4\n",
      "\n",
      "Matrix inverse:\n",
      "[0.25, -0.5, 0.25, -0.0]\n",
      "[-0.5, 1.0, -3.0, 1.5]\n",
      "[0.25, -0.9444, 3.25, -1.5556]\n",
      "[-0.0, 0.3333, -0.5, 0.1667]\n",
      "4 x 4\n",
      "______________________________________________________________________\n",
      "Matrix D\n",
      "Matrix:\n",
      "[1, 2]\n",
      "[3, 4]\n",
      "2 x 2\n",
      "\n",
      "Determinant: -2\n",
      "\n",
      "Matrix transpose:\n",
      "[1, 3]\n",
      "[2, 4]\n",
      "2 x 2\n",
      "\n",
      "Matrix inverse:\n",
      "[-2.0, 1.0]\n",
      "[1.5, -0.5]\n",
      "2 x 2\n",
      "______________________________________________________________________\n",
      "Matrix F\n",
      "Matrix:\n",
      "[(1+2j), (2+5j)]\n",
      "[3, (4-2j)]\n",
      "2 x 2\n",
      "\n",
      "Determinant: (2-9j)\n",
      "\n",
      "Matrix transpose:\n",
      "[(1+2j), 3]\n",
      "[(2+5j), (4-2j)]\n",
      "2 x 2\n",
      "\n",
      "Matrix inverse:\n",
      "[(0.3059+0.3765j), (0.4824-0.3294j)]\n",
      "[(-0.0706-0.3176j), (-0.1882+0.1529j)]\n",
      "2 x 2\n",
      "______________________________________________________________________\n"
     ]
    }
   ],
   "source": [
    "for name, matrix in matrices.items():\n",
    "    print('Matrix {}'.format(name))\n",
    "    demonstrate(matrix)\n",
    "    print('_'*70)"
   ]
  },
  {
   "cell_type": "markdown",
   "metadata": {},
   "source": [
    "## Matrix addition"
   ]
  },
  {
   "cell_type": "code",
   "execution_count": 5,
   "metadata": {},
   "outputs": [
    {
     "name": "stdout",
     "output_type": "stream",
     "text": [
      "D:\n",
      "[1, 2]\n",
      "[3, 4]\n",
      "2 x 2\n",
      "\n",
      "F:\n",
      "[(1+2j), (2+5j)]\n",
      "[3, (4-2j)]\n",
      "2 x 2\n",
      "\n",
      "D + F:\n",
      "[(2+2j), (4+5j)]\n",
      "[6, (8-2j)]\n",
      "2 x 2\n"
     ]
    }
   ],
   "source": [
    "print('D:')\n",
    "d.print_matrix()\n",
    "print('\\nF:')\n",
    "f.print_matrix()\n",
    "print('\\nD + F:')\n",
    "(d + f).print_matrix()"
   ]
  },
  {
   "cell_type": "markdown",
   "metadata": {},
   "source": [
    "## Matrix subtraction"
   ]
  },
  {
   "cell_type": "code",
   "execution_count": 6,
   "metadata": {},
   "outputs": [
    {
     "name": "stdout",
     "output_type": "stream",
     "text": [
      "D:\n",
      "[1, 2]\n",
      "[3, 4]\n",
      "2 x 2\n",
      "\n",
      "F:\n",
      "[(1+2j), (2+5j)]\n",
      "[3, (4-2j)]\n",
      "2 x 2\n",
      "\n",
      "D - F:\n",
      "[-2j, -5j]\n",
      "[0, 2j]\n",
      "2 x 2\n"
     ]
    }
   ],
   "source": [
    "print('D:')\n",
    "d.print_matrix()\n",
    "print('\\nF:')\n",
    "f.print_matrix()\n",
    "print('\\nD - F:')\n",
    "(d - f).print_matrix()"
   ]
  },
  {
   "cell_type": "markdown",
   "metadata": {},
   "source": [
    "## Matrix multiplication"
   ]
  },
  {
   "cell_type": "code",
   "execution_count": 7,
   "metadata": {},
   "outputs": [
    {
     "name": "stdout",
     "output_type": "stream",
     "text": [
      "D:\n",
      "[1, 2]\n",
      "[3, 4]\n",
      "2 x 2\n",
      "\n",
      "F:\n",
      "[(1+2j), (2+5j)]\n",
      "[3, (4-2j)]\n",
      "2 x 2\n",
      "\n",
      "D * F:\n",
      "[(7+2j), (10+1j)]\n",
      "[(15+6j), (22+7j)]\n",
      "2 x 2\n"
     ]
    }
   ],
   "source": [
    "print('D:')\n",
    "d.print_matrix()\n",
    "print('\\nF:')\n",
    "f.print_matrix()\n",
    "print('\\nD * F:')\n",
    "(d * f).print_matrix()"
   ]
  },
  {
   "cell_type": "markdown",
   "metadata": {},
   "source": [
    "## Scalar multiplication"
   ]
  },
  {
   "cell_type": "code",
   "execution_count": 8,
   "metadata": {},
   "outputs": [
    {
     "name": "stdout",
     "output_type": "stream",
     "text": [
      "D:\n",
      "[1, 2]\n",
      "[3, 4]\n",
      "2 x 2\n",
      "\n",
      "3 * D:\n",
      "[3, 6]\n",
      "[9, 12]\n",
      "2 x 2\n"
     ]
    }
   ],
   "source": [
    "print('D:')\n",
    "d.print_matrix()\n",
    "print('\\n3 * D:')\n",
    "(3 * d).print_matrix()"
   ]
  },
  {
   "cell_type": "markdown",
   "metadata": {},
   "source": [
    "## Complex scalar multiplication"
   ]
  },
  {
   "cell_type": "code",
   "execution_count": 9,
   "metadata": {},
   "outputs": [
    {
     "name": "stdout",
     "output_type": "stream",
     "text": [
      "\n",
      "F:\n",
      "[(1+2j), (2+5j)]\n",
      "[3, (4-2j)]\n",
      "2 x 2\n",
      "\n",
      "1-2j * F:\n",
      "[5.0, (12+1j)]\n",
      "[(3-6j), -10j]\n",
      "2 x 2\n"
     ]
    }
   ],
   "source": [
    "print('\\nF:')\n",
    "f.print_matrix()\n",
    "print('\\n1-2j * F:')\n",
    "((1-2j) * f).print_matrix()"
   ]
  },
  {
   "cell_type": "markdown",
   "metadata": {},
   "source": [
    "## Multiplication by inverse\n",
    "### $F \\times  F^{-1}$"
   ]
  },
  {
   "cell_type": "code",
   "execution_count": 10,
   "metadata": {},
   "outputs": [
    {
     "name": "stdout",
     "output_type": "stream",
     "text": [
      "\n",
      "F:\n",
      "[(1+2j), (2+5j)]\n",
      "[3, (4-2j)]\n",
      "2 x 2\n",
      "\n",
      "F * F inverse:\n",
      "[1.0, 0.0]\n",
      "[0.0, 1.0]\n",
      "2 x 2\n"
     ]
    }
   ],
   "source": [
    "print('\\nF:')\n",
    "f.print_matrix()\n",
    "print('\\nF * F inverse:')\n",
    "(f * f**-1).print_matrix()"
   ]
  }
 ],
 "metadata": {
  "kernelspec": {
   "display_name": "Python 3",
   "language": "python",
   "name": "python3"
  },
  "language_info": {
   "codemirror_mode": {
    "name": "ipython",
    "version": 3
   },
   "file_extension": ".py",
   "mimetype": "text/x-python",
   "name": "python",
   "nbconvert_exporter": "python",
   "pygments_lexer": "ipython3",
   "version": "3.8.5"
  }
 },
 "nbformat": 4,
 "nbformat_minor": 4
}
